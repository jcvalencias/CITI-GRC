{
 "cells": [
  {
   "cell_type": "code",
   "execution_count": null,
   "metadata": {},
   "outputs": [],
   "source": [
    "import pandas as pd\n",
    "import os\n",
    "import glob\n",
    "\n",
    "path = '../'\n",
    "period = '202101'\n",
    "invoices = 'INVOICES/' + period + '/facturas_csv/'\n",
    "expense = \"EXPENSE/\"\n",
    "ICSAS = 'ICSAS/'\n",
    "aps = 'APS/'"
   ]
  },
  {
   "cell_type": "code",
   "execution_count": null,
   "metadata": {},
   "outputs": [],
   "source": [
    "DMA_Expense = pd.read_excel(path + expense + 'DMA_' + period + '.xslm', sheet_name = \"Resumen\")\n",
    "DMA_Expense"
   ]
  },
  {
   "cell_type": "code",
   "execution_count": null,
   "metadata": {},
   "outputs": [],
   "source": [
    "rate = DMA_Expense.iloc[0,4]\n",
    "rate"
   ]
  },
  {
   "cell_type": "code",
   "execution_count": null,
   "metadata": {},
   "outputs": [],
   "source": [
    "DMA_Expense = DMA_Expense.iloc[1:, [5,6]]\n",
    "DMA_Expense.columns = ['USD', 'TTS Channel & Enterprise Services - Data Management & Analytics']"
   ]
  },
  {
   "cell_type": "code",
   "execution_count": null,
   "metadata": {},
   "outputs": [],
   "source": [
    "DMA_Expense = DMA_Expense[DMA_Expense['USD'].notnull()].iloc[1:]\n",
    "DMA_Expense"
   ]
  },
  {
   "cell_type": "code",
   "execution_count": null,
   "metadata": {},
   "outputs": [],
   "source": [
    "Expense = DMA_Expense[DMA_Expense['USD'] == 'Total>>>'].iloc[:, 1].sum()\n",
    "Expense"
   ]
  },
  {
   "cell_type": "code",
   "execution_count": null,
   "metadata": {},
   "outputs": [],
   "source": [
    "facturas = glob.glob(path + invoices + '*.csv')\n",
    "facturas"
   ]
  },
  {
   "cell_type": "code",
   "execution_count": null,
   "metadata": {},
   "outputs": [],
   "source": [
    "dfr = []\n",
    "dfr_wo = []\n",
    "for factura in facturas:\n",
    "    df = pd.read_csv(factura, sep = ';')\n",
    "    country = factura[factura.find('\\\\'):]\n",
    "    df['Country'] = country[country.find('_')+1:country.find('.csv')]\n",
    "    \n",
    "    ind = df[df['Concepto'] == 'Data Management and Analytics'].index[0]\n",
    "    \n",
    "    df_wo = df.iloc[ind:ind+1]\n",
    "    df = df.iloc[ind:ind+4]\n",
    "    \n",
    "    if 'Colombia' in factura:\n",
    "        df['Valor'] = df['Valor']/rate\n",
    "        \n",
    "    dfr_wo.append(df_wo)\n",
    "    dfr.append(df)\n",
    "    \n",
    "dfr = pd.concat(dfr, ignore_index = True)\n",
    "dfr_wo = pd.concat(dfr_wo, ignore_index = True)\n",
    "\n",
    "dfr_wo = dfr_wo[['Country', 'Valor']].groupby('Country').sum().reset_index()\n",
    "dfr_wo\n",
    "\n",
    "dfr = dfr[['Country', 'Valor']].groupby('Country').sum().reset_index()\n",
    "dfr"
   ]
  },
  {
   "cell_type": "code",
   "execution_count": null,
   "metadata": {},
   "outputs": [],
   "source": [
    "Split = pd.read_excel(path + expense + '/split/split.xlsx', sheet_name = 'Split')\n",
    "Split['Expenses'] = Split['Participation']*Expense\n",
    "Split"
   ]
  },
  {
   "cell_type": "code",
   "execution_count": null,
   "metadata": {},
   "outputs": [],
   "source": [
    "Countries = pd.read_excel(path + expense + '/split/split.xlsx', sheet_name = 'Countries')\n",
    "Countries"
   ]
  },
  {
   "cell_type": "code",
   "execution_count": null,
   "metadata": {},
   "outputs": [],
   "source": [
    "Invoices = pd.merge(dfr, Countries, left_on = 'Country', right_on = 'Invoices', how = 'inner')\n",
    "Invoices = Invoices[['Expenses', 'Valor']]\n",
    "Invoices.columns = ['Country', 'Invoices']\n",
    "Invoices"
   ]
  },
  {
   "cell_type": "code",
   "execution_count": null,
   "metadata": {},
   "outputs": [],
   "source": [
    "Invoices_wo = pd.merge(dfr_wo, Countries, left_on = 'Country', right_on = 'Invoices', how = 'inner')\n",
    "Invoices_wo = Invoices_wo[['Expenses', 'Valor']]\n",
    "Invoices_wo.columns = ['Country', 'Invoices']\n",
    "Invoices_wo"
   ]
  },
  {
   "cell_type": "code",
   "execution_count": null,
   "metadata": {},
   "outputs": [],
   "source": [
    "APS = pd.read_excel(path + aps + 'APS.xlsx', sheet_name = 'APS')\n",
    "APS = APS[APS['SR LVID Name'].notnull()]\n",
    "APS"
   ]
  },
  {
   "cell_type": "code",
   "execution_count": null,
   "metadata": {},
   "outputs": [],
   "source": [
    "APS = pd.merge(APS[['SR LVID Name', period]], Countries, left_on = 'ST LVID Name', right_on = 'APS', how = 'inner')\n",
    "APS = APS[['Expenses', period]]\n",
    "APS.columns = ['Country', 'APS']\n",
    "APS"
   ]
  },
  {
   "cell_type": "code",
   "execution_count": null,
   "metadata": {},
   "outputs": [],
   "source": [
    "Data = pd.merge(Invoices, Invoices_wo, how = 'outer')\n",
    "Data = pd.merge(Data, Split[['Country', 'Expenses']], how = 'outer')\n",
    "Data = pd.merge(Data, APS, how = 'outer')\n",
    "Data['Period'] = period\n",
    "Data"
   ]
  },
  {
   "cell_type": "code",
   "execution_count": null,
   "metadata": {},
   "outputs": [],
   "source": [
    "Data.to_csv('checks/'+period+'_Check.csv', index = False, sep = '|')"
   ]
  }
 ],
 "metadata": {
  "kernelspec": {
   "display_name": "Python 3",
   "language": "python",
   "name": "python3"
  },
  "language_info": {
   "codemirror_mode": {
    "name": "ipython",
    "version": 3
   },
   "file_extension": ".py",
   "mimetype": "text/x-python",
   "name": "python",
   "nbconvert_exporter": "python",
   "pygments_lexer": "ipython3",
   "version": "3.7.3"
  }
 },
 "nbformat": 4,
 "nbformat_minor": 2
}
